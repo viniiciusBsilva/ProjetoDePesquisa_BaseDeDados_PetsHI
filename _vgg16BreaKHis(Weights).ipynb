{
  "cells": [
    {
      "cell_type": "markdown",
      "metadata": {
        "id": "BvQGo72WKCIp"
      },
      "source": [
        "## Import das bibliotecas"
      ]
    },
    {
      "cell_type": "code",
      "execution_count": null,
      "metadata": {
        "id": "s5PziM7BFCoD"
      },
      "outputs": [],
      "source": [
        "import numpy as np\n",
        "import pandas as pd\n",
        "import matplotlib.pyplot as plt\n",
        "import tensorflow as tf\n",
        "import pathlib\n",
        "\n",
        "import seaborn as sns\n",
        "\n",
        "from sklearn.utils import resample\n",
        "from sklearn.model_selection import train_test_split\n",
        "from sklearn.metrics import accuracy_score, confusion_matrix,classification_report\n",
        "from PIL import Image\n",
        "\n",
        "import os\n",
        "from os import listdir\n",
        "from tqdm import tqdm\n",
        "import shutil\n",
        "import cv2\n",
        "\n",
        "from keras import Input\n",
        "from keras import Model\n",
        "from keras.models import Sequential\n",
        "from keras.utils import np_utils, to_categorical\n",
        "from keras.preprocessing import image\n",
        "from keras.preprocessing.image import ImageDataGenerator\n",
        "from keras.callbacks import Callback, LearningRateScheduler\n",
        "\n",
        "from math import *\n",
        "import zipfile\n",
        "from tensorflow.keras.models import load_model\n"
      ]
    },
    {
      "cell_type": "markdown",
      "metadata": {
        "id": "_HoIi-tUKLRJ"
      },
      "source": [
        "## Copiando apenas imagens para diretório breakhis_imgs"
      ]
    },
    {
      "cell_type": "code",
      "execution_count": null,
      "metadata": {
        "colab": {
          "base_uri": "https://localhost:8080/"
        },
        "id": "Q4G79CMIFiY4",
        "outputId": "04da51fc-8373-47dd-c659-f2c285146b39"
      },
      "outputs": [
        {
          "output_type": "stream",
          "name": "stdout",
          "text": [
            "Mounted at /content/drive\n"
          ]
        }
      ],
      "source": [
        "from google.colab import drive\n",
        "drive.mount('/content/drive')"
      ]
    },
    {
      "cell_type": "code",
      "execution_count": null,
      "metadata": {
        "id": "nVZhSBXlFnyb"
      },
      "outputs": [],
      "source": [
        "path = '/content/drive/MyDrive/breaKHis.zip'\n",
        "zip_object = zipfile.ZipFile(file = path, mode = 'r')\n",
        "zip_object.extractall('./')\n",
        "zip_object.close()"
      ]
    },
    {
      "cell_type": "code",
      "execution_count": null,
      "metadata": {
        "id": "bISoo6dIFY0t"
      },
      "outputs": [],
      "source": [
        "size = 224"
      ]
    },
    {
      "cell_type": "code",
      "execution_count": null,
      "metadata": {
        "id": "iwgWZOivFFly"
      },
      "outputs": [],
      "source": [
        "os.mkdir('breakhis_imgs')\n",
        "os.mkdir('./breakhis_imgs/benign')\n",
        "os.mkdir('./breakhis_imgs/malignant')"
      ]
    },
    {
      "cell_type": "code",
      "execution_count": null,
      "metadata": {
        "id": "t7JnPsdrFPB0"
      },
      "outputs": [],
      "source": [
        "def getListOfFiles(dirName):\n",
        "    listOfFile = os.listdir(dirName)\n",
        "    allFiles = list()\n",
        "    for entry in listOfFile:\n",
        "        fullPath = os.path.join(dirName, entry)\n",
        "        if os.path.isdir(fullPath):\n",
        "            allFiles = allFiles + getListOfFiles(fullPath)\n",
        "        else:\n",
        "            allFiles.append(fullPath)\n",
        "\n",
        "    return allFiles"
      ]
    },
    {
      "cell_type": "code",
      "execution_count": null,
      "metadata": {
        "id": "AuLVntrJFQTc"
      },
      "outputs": [],
      "source": [
        "files_benign = getListOfFiles('/content/BreaKHis_v1/BreaKHis_v1/histology_slides/breast/benign')\n",
        "for f in files_benign:\n",
        "    if f.endswith('.png'):\n",
        "\n",
        "        shutil.copy(f,'breakhis_imgs/benign')\n",
        "files_malignant = getListOfFiles('/content/BreaKHis_v1/BreaKHis_v1/histology_slides/breast/malignant')\n",
        "for f in files_malignant:\n",
        "    if f.endswith('.png'):\n",
        "\n",
        "        shutil.copy(f,'breakhis_imgs/malignant')"
      ]
    },
    {
      "cell_type": "code",
      "execution_count": null,
      "metadata": {
        "id": "nHJDZ963PRfP"
      },
      "outputs": [],
      "source": [
        "data_path = pathlib.Path(r'/content/breakhis_imgs')\n",
        "\n",
        "# glob all 'jpg' image files\n",
        "img_path = list(data_path.glob('**/*.png'))\n",
        "\n",
        "# split label names from file directory\n",
        "img_labels = list(map(lambda x: os.path.split(os.path.split(x)[0])[1], img_path))"
      ]
    },
    {
      "cell_type": "code",
      "execution_count": null,
      "metadata": {
        "colab": {
          "base_uri": "https://localhost:8080/",
          "height": 206
        },
        "id": "K125GGquPccX",
        "outputId": "98ce46b2-34f3-43bf-e0b4-2a38d03f8d13"
      },
      "outputs": [
        {
          "output_type": "execute_result",
          "data": {
            "text/plain": [
              "                                                PATH     LABELS\n",
              "0  /content/breakhis_imgs/malignant/SOB_M_LC-14-1...  malignant\n",
              "1  /content/breakhis_imgs/malignant/SOB_M_DC-14-5...  malignant\n",
              "2  /content/breakhis_imgs/benign/SOB_B_PT-14-2199...     benign\n",
              "3  /content/breakhis_imgs/malignant/SOB_M_MC-14-1...  malignant\n",
              "4  /content/breakhis_imgs/malignant/SOB_M_DC-14-2...  malignant"
            ],
            "text/html": [
              "\n",
              "  <div id=\"df-1455fe87-fef7-48d3-91bd-c1f983ff59aa\" class=\"colab-df-container\">\n",
              "    <div>\n",
              "<style scoped>\n",
              "    .dataframe tbody tr th:only-of-type {\n",
              "        vertical-align: middle;\n",
              "    }\n",
              "\n",
              "    .dataframe tbody tr th {\n",
              "        vertical-align: top;\n",
              "    }\n",
              "\n",
              "    .dataframe thead th {\n",
              "        text-align: right;\n",
              "    }\n",
              "</style>\n",
              "<table border=\"1\" class=\"dataframe\">\n",
              "  <thead>\n",
              "    <tr style=\"text-align: right;\">\n",
              "      <th></th>\n",
              "      <th>PATH</th>\n",
              "      <th>LABELS</th>\n",
              "    </tr>\n",
              "  </thead>\n",
              "  <tbody>\n",
              "    <tr>\n",
              "      <th>0</th>\n",
              "      <td>/content/breakhis_imgs/malignant/SOB_M_LC-14-1...</td>\n",
              "      <td>malignant</td>\n",
              "    </tr>\n",
              "    <tr>\n",
              "      <th>1</th>\n",
              "      <td>/content/breakhis_imgs/malignant/SOB_M_DC-14-5...</td>\n",
              "      <td>malignant</td>\n",
              "    </tr>\n",
              "    <tr>\n",
              "      <th>2</th>\n",
              "      <td>/content/breakhis_imgs/benign/SOB_B_PT-14-2199...</td>\n",
              "      <td>benign</td>\n",
              "    </tr>\n",
              "    <tr>\n",
              "      <th>3</th>\n",
              "      <td>/content/breakhis_imgs/malignant/SOB_M_MC-14-1...</td>\n",
              "      <td>malignant</td>\n",
              "    </tr>\n",
              "    <tr>\n",
              "      <th>4</th>\n",
              "      <td>/content/breakhis_imgs/malignant/SOB_M_DC-14-2...</td>\n",
              "      <td>malignant</td>\n",
              "    </tr>\n",
              "  </tbody>\n",
              "</table>\n",
              "</div>\n",
              "    <div class=\"colab-df-buttons\">\n",
              "\n",
              "  <div class=\"colab-df-container\">\n",
              "    <button class=\"colab-df-convert\" onclick=\"convertToInteractive('df-1455fe87-fef7-48d3-91bd-c1f983ff59aa')\"\n",
              "            title=\"Convert this dataframe to an interactive table.\"\n",
              "            style=\"display:none;\">\n",
              "\n",
              "  <svg xmlns=\"http://www.w3.org/2000/svg\" height=\"24px\" viewBox=\"0 -960 960 960\">\n",
              "    <path d=\"M120-120v-720h720v720H120Zm60-500h600v-160H180v160Zm220 220h160v-160H400v160Zm0 220h160v-160H400v160ZM180-400h160v-160H180v160Zm440 0h160v-160H620v160ZM180-180h160v-160H180v160Zm440 0h160v-160H620v160Z\"/>\n",
              "  </svg>\n",
              "    </button>\n",
              "\n",
              "  <style>\n",
              "    .colab-df-container {\n",
              "      display:flex;\n",
              "      gap: 12px;\n",
              "    }\n",
              "\n",
              "    .colab-df-convert {\n",
              "      background-color: #E8F0FE;\n",
              "      border: none;\n",
              "      border-radius: 50%;\n",
              "      cursor: pointer;\n",
              "      display: none;\n",
              "      fill: #1967D2;\n",
              "      height: 32px;\n",
              "      padding: 0 0 0 0;\n",
              "      width: 32px;\n",
              "    }\n",
              "\n",
              "    .colab-df-convert:hover {\n",
              "      background-color: #E2EBFA;\n",
              "      box-shadow: 0px 1px 2px rgba(60, 64, 67, 0.3), 0px 1px 3px 1px rgba(60, 64, 67, 0.15);\n",
              "      fill: #174EA6;\n",
              "    }\n",
              "\n",
              "    .colab-df-buttons div {\n",
              "      margin-bottom: 4px;\n",
              "    }\n",
              "\n",
              "    [theme=dark] .colab-df-convert {\n",
              "      background-color: #3B4455;\n",
              "      fill: #D2E3FC;\n",
              "    }\n",
              "\n",
              "    [theme=dark] .colab-df-convert:hover {\n",
              "      background-color: #434B5C;\n",
              "      box-shadow: 0px 1px 3px 1px rgba(0, 0, 0, 0.15);\n",
              "      filter: drop-shadow(0px 1px 2px rgba(0, 0, 0, 0.3));\n",
              "      fill: #FFFFFF;\n",
              "    }\n",
              "  </style>\n",
              "\n",
              "    <script>\n",
              "      const buttonEl =\n",
              "        document.querySelector('#df-1455fe87-fef7-48d3-91bd-c1f983ff59aa button.colab-df-convert');\n",
              "      buttonEl.style.display =\n",
              "        google.colab.kernel.accessAllowed ? 'block' : 'none';\n",
              "\n",
              "      async function convertToInteractive(key) {\n",
              "        const element = document.querySelector('#df-1455fe87-fef7-48d3-91bd-c1f983ff59aa');\n",
              "        const dataTable =\n",
              "          await google.colab.kernel.invokeFunction('convertToInteractive',\n",
              "                                                    [key], {});\n",
              "        if (!dataTable) return;\n",
              "\n",
              "        const docLinkHtml = 'Like what you see? Visit the ' +\n",
              "          '<a target=\"_blank\" href=https://colab.research.google.com/notebooks/data_table.ipynb>data table notebook</a>'\n",
              "          + ' to learn more about interactive tables.';\n",
              "        element.innerHTML = '';\n",
              "        dataTable['output_type'] = 'display_data';\n",
              "        await google.colab.output.renderOutput(dataTable, element);\n",
              "        const docLink = document.createElement('div');\n",
              "        docLink.innerHTML = docLinkHtml;\n",
              "        element.appendChild(docLink);\n",
              "      }\n",
              "    </script>\n",
              "  </div>\n",
              "\n",
              "\n",
              "<div id=\"df-9a427aa3-a160-46ab-9f55-fce214c96c73\">\n",
              "  <button class=\"colab-df-quickchart\" onclick=\"quickchart('df-9a427aa3-a160-46ab-9f55-fce214c96c73')\"\n",
              "            title=\"Suggest charts.\"\n",
              "            style=\"display:none;\">\n",
              "\n",
              "<svg xmlns=\"http://www.w3.org/2000/svg\" height=\"24px\"viewBox=\"0 0 24 24\"\n",
              "     width=\"24px\">\n",
              "    <g>\n",
              "        <path d=\"M19 3H5c-1.1 0-2 .9-2 2v14c0 1.1.9 2 2 2h14c1.1 0 2-.9 2-2V5c0-1.1-.9-2-2-2zM9 17H7v-7h2v7zm4 0h-2V7h2v10zm4 0h-2v-4h2v4z\"/>\n",
              "    </g>\n",
              "</svg>\n",
              "  </button>\n",
              "\n",
              "<style>\n",
              "  .colab-df-quickchart {\n",
              "    background-color: #E8F0FE;\n",
              "    border: none;\n",
              "    border-radius: 50%;\n",
              "    cursor: pointer;\n",
              "    display: none;\n",
              "    fill: #1967D2;\n",
              "    height: 32px;\n",
              "    padding: 0 0 0 0;\n",
              "    width: 32px;\n",
              "  }\n",
              "\n",
              "  .colab-df-quickchart:hover {\n",
              "    background-color: #E2EBFA;\n",
              "    box-shadow: 0px 1px 2px rgba(60, 64, 67, 0.3), 0px 1px 3px 1px rgba(60, 64, 67, 0.15);\n",
              "    fill: #174EA6;\n",
              "  }\n",
              "\n",
              "  [theme=dark] .colab-df-quickchart {\n",
              "    background-color: #3B4455;\n",
              "    fill: #D2E3FC;\n",
              "  }\n",
              "\n",
              "  [theme=dark] .colab-df-quickchart:hover {\n",
              "    background-color: #434B5C;\n",
              "    box-shadow: 0px 1px 3px 1px rgba(0, 0, 0, 0.15);\n",
              "    filter: drop-shadow(0px 1px 2px rgba(0, 0, 0, 0.3));\n",
              "    fill: #FFFFFF;\n",
              "  }\n",
              "</style>\n",
              "\n",
              "  <script>\n",
              "    async function quickchart(key) {\n",
              "      const charts = await google.colab.kernel.invokeFunction(\n",
              "          'suggestCharts', [key], {});\n",
              "    }\n",
              "    (() => {\n",
              "      let quickchartButtonEl =\n",
              "        document.querySelector('#df-9a427aa3-a160-46ab-9f55-fce214c96c73 button');\n",
              "      quickchartButtonEl.style.display =\n",
              "        google.colab.kernel.accessAllowed ? 'block' : 'none';\n",
              "    })();\n",
              "  </script>\n",
              "</div>\n",
              "    </div>\n",
              "  </div>\n"
            ]
          },
          "metadata": {},
          "execution_count": 9
        }
      ],
      "source": [
        "pd_img_path = pd.Series(img_path, name='PATH').astype(str)\n",
        "pd_img_labels = pd.Series(img_labels, name='LABELS').astype(str)\n",
        "\n",
        "img_df = pd.merge(pd_img_path, pd_img_labels, right_index=True, left_index=True)\n",
        "\n",
        "img_df = img_df.sample(frac = 1).reset_index(drop=True)\n",
        "\n",
        "\n",
        "img_df.head()"
      ]
    },
    {
      "cell_type": "code",
      "execution_count": null,
      "metadata": {
        "colab": {
          "base_uri": "https://localhost:8080/"
        },
        "id": "ZuMUC4FHTu6I",
        "outputId": "40057ef2-70b1-4784-a557-ee205ef4a27b"
      },
      "outputs": [
        {
          "output_type": "execute_result",
          "data": {
            "text/plain": [
              "benign       2480\n",
              "malignant    5429\n",
              "Name: LABELS, dtype: int64"
            ]
          },
          "metadata": {},
          "execution_count": 10
        }
      ],
      "source": [
        "img_df['LABELS'].value_counts(ascending=True)\n"
      ]
    },
    {
      "cell_type": "code",
      "execution_count": null,
      "metadata": {
        "colab": {
          "base_uri": "https://localhost:8080/"
        },
        "id": "a5PtanONLgQQ",
        "outputId": "d9f47728-7966-4d82-a702-9db2d08cbfd0"
      },
      "outputs": [
        {
          "output_type": "stream",
          "name": "stdout",
          "text": [
            "Number of train data: 6327\n",
            "Number of test data: 1582\n"
          ]
        }
      ],
      "source": [
        "train_dataset, test_dataset = train_test_split(img_df, train_size=0.8, shuffle=True, stratify=img_df['LABELS'])\n",
        "print(\"Number of train data:\", train_dataset.shape[0])\n",
        "print(\"Number of test data:\", test_dataset.shape[0])"
      ]
    },
    {
      "cell_type": "markdown",
      "metadata": {
        "id": "pOx0sVuSjmBI"
      },
      "source": [
        "## Unsampling Data"
      ]
    },
    {
      "cell_type": "code",
      "execution_count": null,
      "metadata": {
        "colab": {
          "base_uri": "https://localhost:8080/",
          "height": 466
        },
        "id": "cIz6M2nHgmri",
        "outputId": "ebddbfaf-75f8-4ce2-90a7-d314c3ed6d68"
      },
      "outputs": [
        {
          "output_type": "execute_result",
          "data": {
            "text/plain": [
              "<Axes: xlabel='LABELS', ylabel='count'>"
            ]
          },
          "metadata": {},
          "execution_count": 12
        },
        {
          "output_type": "display_data",
          "data": {
            "text/plain": [
              "<Figure size 640x480 with 1 Axes>"
            ],
            "image/png": "[encoded data removed]"
          },
          "metadata": {}
        }
      ],
      "source": [
        "# making a plot to see data distribution\n",
        "# sns.figure()\n",
        "sns.countplot(x=img_df['LABELS'], data=train_dataset)"
      ]
    },
    {
      "cell_type": "code",
      "execution_count": null,
      "metadata": {
        "id": "icDm1U4thqpC"
      },
      "outputs": [],
      "source": [
        "import pandas as pd\n",
        "from sklearn.utils import resample\n",
        "\n",
        "# Separar os exemplos das classes minoritária e majoritária\n",
        "class_minority = train_dataset[train_dataset['LABELS'] == 'benign']\n",
        "class_majority = train_dataset[train_dataset['LABELS'] == 'malignant']\n",
        "\n",
        "# Realizar undersampling na classe majoritária\n",
        "class_majority_undersampled = resample(class_majority,\n",
        "                                       replace=False,    # Sem substituição\n",
        "                                       n_samples=len(class_minority),  # Número de amostras igual à classe minoritária\n",
        "                                       random_state=42)  # Para reprodutibilidade\n",
        "\n",
        "# Concatenar as classes minoritária e majoritária undersampled\n",
        "undersampled_dataset = pd.concat([class_minority, class_majority_undersampled])\n",
        "\n",
        "# O conjunto de dados 'undersampled_dataset' agora contém um número balanceado de amostras de cada classe\n"
      ]
    },
    {
      "cell_type": "code",
      "execution_count": null,
      "metadata": {
        "colab": {
          "base_uri": "https://localhost:8080/"
        },
        "id": "GqkR8rzajCIj",
        "outputId": "bd52d675-46cd-4c04-e2ea-4e524d61d82d"
      },
      "outputs": [
        {
          "output_type": "execute_result",
          "data": {
            "text/plain": [
              "PATH      3968\n",
              "LABELS    3968\n",
              "dtype: int64"
            ]
          },
          "metadata": {},
          "execution_count": 14
        }
      ],
      "source": [
        "undersampled_dataset.count()"
      ]
    },
    {
      "cell_type": "code",
      "execution_count": null,
      "metadata": {
        "colab": {
          "base_uri": "https://localhost:8080/",
          "height": 466
        },
        "id": "ZAeGgXmRjZBA",
        "outputId": "fa119dad-4fbd-494f-9e0e-630f8c39d5e0"
      },
      "outputs": [
        {
          "output_type": "execute_result",
          "data": {
            "text/plain": [
              "<Axes: xlabel='LABELS', ylabel='count'>"
            ]
          },
          "metadata": {},
          "execution_count": 15
        },
        {
          "output_type": "display_data",
          "data": {
            "text/plain": [
              "<Figure size 640x480 with 1 Axes>"
            ],
            "image/png": "[encoded data removed]"
          },
          "metadata": {}
        }
      ],
      "source": [
        "# making a plot to see data distribution\n",
        "# sns.figure()\n",
        "sns.countplot(x=undersampled_dataset['LABELS'], data=undersampled_dataset)"
      ]
    },
    {
      "cell_type": "markdown",
      "metadata": {
        "id": "IqcUr_nTjtjQ"
      },
      "source": [
        "## Data Generator"
      ]
    },
    {
      "cell_type": "code",
      "execution_count": null,
      "metadata": {
        "id": "1eZ0sizrAhUS"
      },
      "outputs": [],
      "source": [
        "img_size = (224, 224)\n",
        "batch_size = 128"
      ]
    },
    {
      "cell_type": "code",
      "execution_count": null,
      "metadata": {
        "colab": {
          "base_uri": "https://localhost:8080/"
        },
        "id": "7Hppd48V_keT",
        "outputId": "79239e77-178c-4cc4-93ff-88106837f898"
      },
      "outputs": [
        {
          "output_type": "stream",
          "name": "stdout",
          "text": [
            "Found 5062 validated image filenames belonging to 2 classes.\n",
            "Found 1265 validated image filenames belonging to 2 classes.\n"
          ]
        }
      ],
      "source": [
        "gerador_treinamento = ImageDataGenerator(\n",
        "    rescale=1.0/255,\n",
        "    rotation_range=20,\n",
        "    width_shift_range=0.2,\n",
        "    height_shift_range=0.2,\n",
        "    horizontal_flip=True,\n",
        "    validation_split=0.2\n",
        ")\n",
        "\n",
        "dataset_treinamento = gerador_treinamento.flow_from_dataframe(train_dataset,\n",
        "                                                              x_col='PATH', y_col='LABELS',\n",
        "                                                              target_size = (224, 224),\n",
        "                                                              batch_size = batch_size,\n",
        "                                                              class_mode = 'binary',\n",
        "                                                              subset='training',\n",
        "                                                              shuffle = True)\n",
        "\n",
        "validation_generator = gerador_treinamento.flow_from_dataframe(\n",
        "    train_dataset,\n",
        "    x_col='PATH', y_col='LABELS',\n",
        "    target_size=(224, 224),\n",
        "    batch_size=batch_size,\n",
        "    class_mode='binary',\n",
        "    subset='validation'\n",
        ")\n"
      ]
    },
    {
      "cell_type": "code",
      "execution_count": null,
      "metadata": {
        "colab": {
          "base_uri": "https://localhost:8080/"
        },
        "id": "qCVt2S2fes34",
        "outputId": "c83b9f7a-6ce8-4add-d026-755570533768"
      },
      "outputs": [
        {
          "output_type": "execute_result",
          "data": {
            "text/plain": [
              "{'benign': 0, 'malignant': 1}"
            ]
          },
          "metadata": {},
          "execution_count": 18
        }
      ],
      "source": [
        "dataset_treinamento.class_indices"
      ]
    },
    {
      "cell_type": "code",
      "execution_count": null,
      "metadata": {
        "id": "Huhl_QRDg3a5"
      },
      "outputs": [],
      "source": []
    },
    {
      "cell_type": "code",
      "execution_count": null,
      "metadata": {
        "colab": {
          "base_uri": "https://localhost:8080/"
        },
        "id": "k-pomDj3SJzM",
        "outputId": "fbb151bb-2c80-4053-e80e-bc2da7a56635"
      },
      "outputs": [
        {
          "output_type": "stream",
          "name": "stdout",
          "text": [
            "Downloading data from https://storage.googleapis.com/tensorflow/keras-applications/vgg16/vgg16_weights_tf_dim_ordering_tf_kernels_notop.h5\n",
            "58889256/58889256 [==============================] - 0s 0us/step\n",
            "Model: \"sequential\"\n",
            "_________________________________________________________________\n",
            " Layer (type)                Output Shape              Param #   \n",
            "=================================================================\n",
            " vgg16 (Functional)          (None, 7, 7, 512)         14714688  \n",
            "                                                                 \n",
            " batch_normalization (BatchN  (None, 7, 7, 512)        2048      \n",
            " ormalization)                                                   \n",
            "                                                                 \n",
            " flatten (Flatten)           (None, 25088)             0         \n",
            "                                                                 \n",
            " dense (Dense)               (None, 512)               12845568  \n",
            "                                                                 \n",
            " dropout (Dropout)           (None, 512)               0         \n",
            "                                                                 \n",
            " dense_1 (Dense)             (None, 256)               131328    \n",
            "                                                                 \n",
            " dropout_1 (Dropout)         (None, 256)               0         \n",
            "                                                                 \n",
            " dense_2 (Dense)             (None, 1)                 257       \n",
            "                                                                 \n",
            "=================================================================\n",
            "Total params: 27,693,889\n",
            "Trainable params: 12,978,177\n",
            "Non-trainable params: 14,715,712\n",
            "_________________________________________________________________\n"
          ]
        }
      ],
      "source": [
        "from tensorflow.keras.applications import VGG16\n",
        "from tensorflow.keras.models import load_model\n",
        "from tensorflow.keras.models import Sequential\n",
        "from tensorflow.keras.layers import BatchNormalization, Dropout, Flatten, Dense\n",
        "from tensorflow.keras.optimizers import Adam\n",
        "\n",
        "# Carregar modelo pré-treinado no ImageNet\n",
        "base_model = VGG16(weights='imagenet', include_top=False, input_shape=(224, 224, 3))\n",
        "\n",
        "\n",
        "# Congelar as camadas do modelo pré-treinado\n",
        "for layer in base_model.layers:\n",
        "    layer.trainable = False\n",
        "\n",
        "model = Sequential()\n",
        "model.add(base_model)\n",
        "model.add(BatchNormalization())\n",
        "model.add(Flatten())\n",
        "model.add(Dense(512, activation = 'relu'))\n",
        "model.add(Dropout(0.4))\n",
        "model.add(Dense(256, activation = 'relu'))\n",
        "model.add(Dropout(0.4))\n",
        "model.add(Dense(1, activation = 'sigmoid'))\n",
        "\n",
        "\n",
        "# Compilar o modelo\n",
        "model.compile(optimizer=Adam(learning_rate=0.001),\n",
        "              loss='binary_crossentropy',\n",
        "              metrics=['accuracy', tf.keras.metrics.Precision(), tf.keras.metrics.Recall(), tf.keras.metrics.AUC()])\n",
        "\n",
        "# Exibir resumo do modelo\n",
        "model.summary()"
      ]
    },
    {
      "cell_type": "code",
      "execution_count": null,
      "metadata": {
        "colab": {
          "base_uri": "https://localhost:8080/"
        },
        "id": "iD5C7Dakfu3r",
        "outputId": "4e3acf6e-d32b-4c2b-84a7-522381591924"
      },
      "outputs": [
        {
          "output_type": "stream",
          "name": "stdout",
          "text": [
            "Epoch 1/20\n",
            "39/39 [==============================] - 220s 5s/step - loss: 0.9813 - accuracy: 0.6544 - precision: 0.7391 - recall: 0.7681 - auc: 0.6204 - val_loss: 0.5995 - val_accuracy: 0.6797 - val_precision: 0.8081 - val_recall: 0.7035 - val_auc: 0.7386\n",
            "Epoch 2/20\n",
            "39/39 [==============================] - 161s 4s/step - loss: 0.5832 - accuracy: 0.7418 - precision: 0.7900 - recall: 0.8480 - auc: 0.7704 - val_loss: 0.5830 - val_accuracy: 0.7448 - val_precision: 0.9130 - val_recall: 0.6976 - val_auc: 0.8524\n",
            "Epoch 3/20\n",
            "39/39 [==============================] - 168s 4s/step - loss: 0.5209 - accuracy: 0.7750 - precision: 0.8193 - recall: 0.8619 - auc: 0.8187 - val_loss: 0.5163 - val_accuracy: 0.8090 - val_precision: 0.8441 - val_recall: 0.8866 - val_auc: 0.8569\n",
            "Epoch 4/20\n",
            "39/39 [==============================] - 155s 4s/step - loss: 0.4604 - accuracy: 0.8010 - precision: 0.8361 - recall: 0.8834 - auc: 0.8477 - val_loss: 0.4945 - val_accuracy: 0.8290 - val_precision: 0.8430 - val_recall: 0.9229 - val_auc: 0.8885\n",
            "Epoch 5/20\n",
            "39/39 [==============================] - 155s 4s/step - loss: 0.4128 - accuracy: 0.8227 - precision: 0.8501 - recall: 0.9001 - auc: 0.8741 - val_loss: 0.4405 - val_accuracy: 0.8455 - val_precision: 0.8446 - val_recall: 0.9494 - val_auc: 0.9054\n",
            "Epoch 6/20\n",
            "39/39 [==============================] - 163s 4s/step - loss: 0.3936 - accuracy: 0.8253 - precision: 0.8536 - recall: 0.8995 - auc: 0.8880 - val_loss: 0.4310 - val_accuracy: 0.8568 - val_precision: 0.8638 - val_recall: 0.9392 - val_auc: 0.9038\n",
            "Epoch 7/20\n",
            "39/39 [==============================] - 165s 4s/step - loss: 0.3729 - accuracy: 0.8417 - precision: 0.8630 - recall: 0.9147 - auc: 0.8951 - val_loss: 0.3970 - val_accuracy: 0.8620 - val_precision: 0.8766 - val_recall: 0.9289 - val_auc: 0.9171\n",
            "Epoch 8/20\n",
            "39/39 [==============================] - 154s 4s/step - loss: 0.3655 - accuracy: 0.8474 - precision: 0.8695 - recall: 0.9149 - auc: 0.9031 - val_loss: 0.3452 - val_accuracy: 0.8767 - val_precision: 0.8810 - val_recall: 0.9497 - val_auc: 0.9382\n",
            "Epoch 9/20\n",
            "39/39 [==============================] - 157s 4s/step - loss: 0.3415 - accuracy: 0.8589 - precision: 0.8817 - recall: 0.9171 - auc: 0.9149 - val_loss: 0.3322 - val_accuracy: 0.8924 - val_precision: 0.9079 - val_recall: 0.9378 - val_auc: 0.9420\n",
            "Epoch 10/20\n",
            "39/39 [==============================] - 154s 4s/step - loss: 0.3237 - accuracy: 0.8640 - precision: 0.8845 - recall: 0.9219 - auc: 0.9231 - val_loss: 0.3283 - val_accuracy: 0.8733 - val_precision: 0.8940 - val_recall: 0.9216 - val_auc: 0.9395\n",
            "Epoch 11/20\n",
            "39/39 [==============================] - 155s 4s/step - loss: 0.3035 - accuracy: 0.8711 - precision: 0.8923 - recall: 0.9230 - auc: 0.9319 - val_loss: 0.3123 - val_accuracy: 0.8845 - val_precision: 0.9048 - val_recall: 0.9289 - val_auc: 0.9366\n",
            "Epoch 12/20\n",
            "39/39 [==============================] - 161s 4s/step - loss: 0.3044 - accuracy: 0.8723 - precision: 0.8954 - recall: 0.9218 - auc: 0.9314 - val_loss: 0.3177 - val_accuracy: 0.8724 - val_precision: 0.8810 - val_recall: 0.9421 - val_auc: 0.9300\n",
            "Epoch 13/20\n",
            "39/39 [==============================] - 162s 4s/step - loss: 0.3027 - accuracy: 0.8699 - precision: 0.8882 - recall: 0.9271 - auc: 0.9313 - val_loss: 0.3159 - val_accuracy: 0.8707 - val_precision: 0.9004 - val_recall: 0.9129 - val_auc: 0.9281\n",
            "Epoch 14/20\n",
            "39/39 [==============================] - 162s 4s/step - loss: 0.2982 - accuracy: 0.8747 - precision: 0.8972 - recall: 0.9227 - auc: 0.9351 - val_loss: 0.2977 - val_accuracy: 0.8845 - val_precision: 0.8971 - val_recall: 0.9392 - val_auc: 0.9401\n",
            "Epoch 15/20\n",
            "39/39 [==============================] - 153s 4s/step - loss: 0.2880 - accuracy: 0.8808 - precision: 0.8998 - recall: 0.9300 - auc: 0.9394 - val_loss: 0.2995 - val_accuracy: 0.8802 - val_precision: 0.8800 - val_recall: 0.9557 - val_auc: 0.9396\n",
            "Epoch 16/20\n",
            "39/39 [==============================] - 163s 4s/step - loss: 0.2765 - accuracy: 0.8861 - precision: 0.9039 - recall: 0.9328 - auc: 0.9431 - val_loss: 0.2746 - val_accuracy: 0.8872 - val_precision: 0.8882 - val_recall: 0.9573 - val_auc: 0.9457\n",
            "Epoch 17/20\n",
            "39/39 [==============================] - 162s 4s/step - loss: 0.2784 - accuracy: 0.8873 - precision: 0.9047 - recall: 0.9345 - auc: 0.9426 - val_loss: 0.2647 - val_accuracy: 0.8950 - val_precision: 0.9140 - val_recall: 0.9379 - val_auc: 0.9476\n",
            "Epoch 18/20\n",
            "39/39 [==============================] - 155s 4s/step - loss: 0.2741 - accuracy: 0.8918 - precision: 0.9099 - recall: 0.9346 - auc: 0.9459 - val_loss: 0.2742 - val_accuracy: 0.9002 - val_precision: 0.9245 - val_recall: 0.9304 - val_auc: 0.9489\n",
            "Epoch 19/20\n",
            "39/39 [==============================] - 162s 4s/step - loss: 0.2689 - accuracy: 0.8910 - precision: 0.9095 - recall: 0.9342 - auc: 0.9469 - val_loss: 0.2670 - val_accuracy: 0.8898 - val_precision: 0.9056 - val_recall: 0.9404 - val_auc: 0.9497\n",
            "Epoch 20/20\n",
            "39/39 [==============================] - 153s 4s/step - loss: 0.2589 - accuracy: 0.8968 - precision: 0.9107 - recall: 0.9421 - auc: 0.9487 - val_loss: 0.2546 - val_accuracy: 0.8941 - val_precision: 0.9138 - val_recall: 0.9345 - val_auc: 0.9524\n"
          ]
        }
      ],
      "source": [
        "\n",
        "# Treinar o modelo\n",
        "history = model.fit(\n",
        "    dataset_treinamento,\n",
        "    steps_per_epoch=dataset_treinamento.samples // batch_size,\n",
        "    epochs=20,\n",
        "    validation_data=validation_generator,\n",
        "    validation_steps=validation_generator.samples // batch_size\n",
        ")"
      ]
    },
    {
      "cell_type": "code",
      "execution_count": null,
      "metadata": {
        "colab": {
          "base_uri": "https://localhost:8080/"
        },
        "id": "YAky2LmeekkQ",
        "outputId": "5b78defb-2dfa-4bbc-8f42-0ebd46617664"
      },
      "outputs": [
        {
          "output_type": "stream",
          "name": "stdout",
          "text": [
            "Found 1582 validated image filenames belonging to 2 classes.\n"
          ]
        }
      ],
      "source": [
        "gerador_teste = ImageDataGenerator(rescale=1/255)\n",
        "dataset_teste = gerador_teste.flow_from_dataframe(test_dataset,\n",
        "                                                  x_col='PATH', y_col='LABELS',\n",
        "                                                  target_size = (224,224),\n",
        "                                                  batch_size = 64,\n",
        "                                                  class_mode = 'binary',\n",
        "                                                  shuffle=False)"
      ]
    },
    {
      "cell_type": "code",
      "source": [
        "from sklearn.metrics import classification_report, confusion_matrix\n",
        "import seaborn as sns\n",
        "import matplotlib.pyplot as plt\n",
        "\n",
        "# Prever as classes no conjunto de teste\n",
        "test_predictions = model.predict(dataset_teste)\n",
        "\n",
        "# Arredondar as previsões para obter classes binárias\n",
        "test_predictions_binary = (test_predictions > 0.5).astype(int)\n",
        "\n",
        "# Extrair os rótulos reais do conjunto de teste\n",
        "y_test = dataset_teste.labels\n",
        "\n",
        "# Obter os nomes das classes\n",
        "class_names = list(dataset_teste.class_indices.keys())\n",
        "\n",
        "# Imprimir o relatório de classificação\n",
        "report = classification_report(y_test, test_predictions_binary, target_names=class_names)\n",
        "print(\"Classification Report:\\n\", report)\n",
        "\n",
        "# Calcular a matriz de confusão\n",
        "confusion = confusion_matrix(y_test, test_predictions_binary)\n",
        "\n",
        "# Plotar a matriz de confusão usando seaborn\n",
        "plt.figure(figsize=(8, 6))\n",
        "sns.heatmap(confusion, annot=True, fmt=\"d\", cmap=\"Blues\", cbar=False)\n",
        "plt.xlabel(\"Predicted Labels\")\n",
        "plt.ylabel(\"True Labels\")\n",
        "plt.title(\"Confusion Matrix\")\n",
        "plt.show()\n",
        "\n"
      ],
      "metadata": {
        "colab": {
          "base_uri": "https://localhost:8080/",
          "height": 755
        },
        "id": "1ocydtJ9ecVb",
        "outputId": "52f4d574-2625-4cfe-a3f3-4db978428b1a"
      },
      "execution_count": null,
      "outputs": [
        {
          "output_type": "stream",
          "name": "stdout",
          "text": [
            "25/25 [==============================] - 41s 1s/step\n",
            "Classification Report:\n",
            "               precision    recall  f1-score   support\n",
            "\n",
            "      benign       0.88      0.69      0.77       496\n",
            "   malignant       0.87      0.96      0.91      1086\n",
            "\n",
            "    accuracy                           0.87      1582\n",
            "   macro avg       0.88      0.82      0.84      1582\n",
            "weighted avg       0.87      0.87      0.87      1582\n",
            "\n"
          ]
        },
        {
          "output_type": "display_data",
          "data": {
            "text/plain": [
              "<Figure size 800x600 with 1 Axes>"
            ],
            "image/png": "[encoded data removed]"
          },
          "metadata": {}
        }
      ]
    },
    {
      "cell_type": "code",
      "execution_count": null,
      "metadata": {
        "colab": {
          "base_uri": "https://localhost:8080/",
          "height": 581
        },
        "id": "JibH2IZngQGn",
        "outputId": "ad01cd5f-abca-4dba-c976-de938e173494"
      },
      "outputs": [
        {
          "output_type": "stream",
          "name": "stdout",
          "text": [
            "25/25 [==============================] - 22s 875ms/step\n"
          ]
        },
        {
          "output_type": "display_data",
          "data": {
            "text/plain": [
              "<Figure size 800x600 with 1 Axes>"
            ],
            "image/png": "[encoded data removed]"
          },
          "metadata": {}
        }
      ],
      "source": [
        "from sklearn.metrics import roc_curve, auc\n",
        "import matplotlib.pyplot as plt\n",
        "\n",
        "# Prever as probabilidades das classes positivas\n",
        "test_predictions = model.predict(dataset_teste)\n",
        "\n",
        "# Extrair os rótulos reais do conjunto de teste\n",
        "y_test = dataset_teste.labels\n",
        "\n",
        "# Calcular a curva ROC\n",
        "fpr, tpr, thresholds = roc_curve(y_test, test_predictions)\n",
        "\n",
        "# Calcular a área sob a curva (AUC)\n",
        "roc_auc = auc(fpr, tpr)\n",
        "\n",
        "# Plotar a curva ROC\n",
        "plt.figure(figsize=(8, 6))\n",
        "plt.plot(fpr, tpr, color='darkorange', lw=2, label='ROC curve (area = %0.2f)' % roc_auc)\n",
        "plt.plot([0, 1], [0, 1], color='navy', lw=2, linestyle='--')\n",
        "plt.xlim([0.0, 1.0])\n",
        "plt.ylim([0.0, 1.05])\n",
        "plt.xlabel('False Positive Rate')\n",
        "plt.ylabel('True Positive Rate')\n",
        "plt.title('Receiver Operating Characteristic (ROC)')\n",
        "plt.legend(loc=\"lower right\")\n",
        "plt.show()\n"
      ]
    },
    {
      "cell_type": "code",
      "execution_count": null,
      "metadata": {
        "id": "H-bknzpoqjHO"
      },
      "outputs": [],
      "source": [
        "# Salvar o modelo treinado\n",
        "model.save('vgg16_BreaKHis_model2.h5')\n"
      ]
    }
  ],
  "metadata": {
    "accelerator": "GPU",
    "colab": {
      "provenance": [],
      "gpuType": "T4"
    },
    "kernelspec": {
      "display_name": "Python 3",
      "name": "python3"
    },
    "language_info": {
      "name": "python"
    }
  },
  "nbformat": 4,
  "nbformat_minor": 0
}